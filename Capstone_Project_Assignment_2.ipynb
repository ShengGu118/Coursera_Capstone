{
    "cells": [
        {
            "cell_type": "markdown",
            "metadata": {
                "collapsed": true
            },
            "source": "# Segmenting and Clustering Neighborhoods in Toronto"
        },
        {
            "cell_type": "markdown",
            "metadata": {},
            "source": "### Read data from webpage"
        },
        {
            "cell_type": "code",
            "execution_count": 25,
            "metadata": {},
            "outputs": [],
            "source": "import numpy as np # library to handle data in a vectorized manner\nimport pandas as pd # library for data analsysis\n\n#Read data from Wikipedia page\ntoronto_rawdata = pd.read_html(\"https://en.wikipedia.org/wiki/List_of_postal_codes_of_Canada:_M\")\n\n#assign the table data to a new data frame\ndfToronto = toronto_rawdata[0]\n\n#Assignment requires three columns: PostalCode, Borough, and Neighborhood. Rename the column \"Postcal Code\" to \"PostcalCode\"\ndfToronto.rename(columns = {'Postal Code':'PostalCode'}, inplace = True) \n\n#dfToronto\n\n#Only process the cells that have an assigned borough. Ignore cells with a borough that is Not assigned.\n#Filter out the not assigned borough\ndfToronto_AssignedBorough = dfToronto[dfToronto['Borough']!='Not assigned']\n\n#merge Neighbourhood with same PostcalCode\ndtToronto_Merged = dfToronto_AssignedBorough.groupby(['PostalCode','Borough'])['Neighbourhood'].apply(', '.join).reset_index()\n\n#If a cell has a borough but a Not assigned neighborhood, then the neighborhood will be the same as the borough.\n#CHeck if there is any not assigned neighborhoud, The merge happened first, a not-assigned neighborhood could be merged\ndtToronto_Merged.loc[(dtToronto_Merged['Neighbourhood'].str.contains('Not assigned')),'Neighbourhood'] = dtToronto_Merged.loc[(dtToronto_Merged['Neighbourhood'].str.contains('Not assigned')),'Borough']\n"
        },
        {
            "cell_type": "code",
            "execution_count": 27,
            "metadata": {},
            "outputs": [
                {
                    "data": {
                        "text/plain": "(103, 3)"
                    },
                    "execution_count": 27,
                    "metadata": {},
                    "output_type": "execute_result"
                }
            ],
            "source": "#use the .shape method to print the number of rows of your dataframe.\ndtToronto_Merged.shape"
        },
        {
            "cell_type": "code",
            "execution_count": null,
            "metadata": {},
            "outputs": [],
            "source": ""
        }
    ],
    "metadata": {
        "kernelspec": {
            "display_name": "Python 3.7",
            "language": "python",
            "name": "python3"
        },
        "language_info": {
            "codemirror_mode": {
                "name": "ipython",
                "version": 3
            },
            "file_extension": ".py",
            "mimetype": "text/x-python",
            "name": "python",
            "nbconvert_exporter": "python",
            "pygments_lexer": "ipython3",
            "version": "3.7.9"
        }
    },
    "nbformat": 4,
    "nbformat_minor": 1
}